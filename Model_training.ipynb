{
 "cells": [
  {
   "cell_type": "code",
   "execution_count": 102,
   "id": "81c8c943",
   "metadata": {},
   "outputs": [],
   "source": [
    "from keras.layers import Input, Lambda, Dense, Flatten, GlobalAveragePooling2D\n",
    "from keras.models import Model\n",
    "from keras.applications.vgg16 import VGG16\n",
    "from keras.applications.vgg16 import preprocess_input\n",
    "from keras.preprocessing import image\n",
    "from keras.preprocessing.image import ImageDataGenerator\n",
    "from keras.models import Sequential\n",
    "import numpy as np\n",
    "from glob import glob\n",
    "import matplotlib.pyplot as plt"
   ]
  },
  {
   "cell_type": "code",
   "execution_count": 103,
   "id": "84d133e1",
   "metadata": {},
   "outputs": [],
   "source": [
    "IMAGE_SIZE = [224, 224]"
   ]
  },
  {
   "cell_type": "code",
   "execution_count": 104,
   "id": "603d6c54",
   "metadata": {},
   "outputs": [],
   "source": [
    "train_directory='./Bachelorwork/processed dataset/train'\n",
    "test_directory='./Bachelorwork/processed dataset/test'"
   ]
  },
  {
   "cell_type": "code",
   "execution_count": 105,
   "id": "5dfafdef",
   "metadata": {},
   "outputs": [],
   "source": [
    "vgg = VGG16(input_shape=IMAGE_SIZE + [3], weights='imagenet', include_top=False)\n",
    "\n",
    "for layer in vgg.layers:\n",
    "  layer.trainable = False"
   ]
  },
  {
   "cell_type": "code",
   "execution_count": 106,
   "id": "f2cb2949",
   "metadata": {},
   "outputs": [
    {
     "data": {
      "text/plain": [
       "484"
      ]
     },
     "execution_count": 106,
     "metadata": {},
     "output_type": "execute_result"
    }
   ],
   "source": [
    "folders = glob('./Bachelorwork/processed dataset/train/*')\n",
    "len(folders)"
   ]
  },
  {
   "cell_type": "code",
   "execution_count": 107,
   "id": "5bce1717",
   "metadata": {},
   "outputs": [],
   "source": [
    "x = Flatten()(vgg.output)\n",
    "\n",
    "\n",
    "x=Dense(1024,activation='relu')(x) \n",
    "x=Dense(1024,activation='relu')(x) \n",
    "x=Dense(512,activation='relu')(x) \n",
    "\n",
    "prediction = Dense(len(folders), activation='softmax')(x)"
   ]
  },
  {
   "cell_type": "code",
   "execution_count": 108,
   "id": "de6ed86d",
   "metadata": {},
   "outputs": [
    {
     "name": "stdout",
     "output_type": "stream",
     "text": [
      "Model: \"model_10\"\n",
      "_________________________________________________________________\n",
      " Layer (type)                Output Shape              Param #   \n",
      "=================================================================\n",
      " input_10 (InputLayer)       [(None, 224, 224, 3)]     0         \n",
      "                                                                 \n",
      " block1_conv1 (Conv2D)       (None, 224, 224, 64)      1792      \n",
      "                                                                 \n",
      " block1_conv2 (Conv2D)       (None, 224, 224, 64)      36928     \n",
      "                                                                 \n",
      " block1_pool (MaxPooling2D)  (None, 112, 112, 64)      0         \n",
      "                                                                 \n",
      " block2_conv1 (Conv2D)       (None, 112, 112, 128)     73856     \n",
      "                                                                 \n",
      " block2_conv2 (Conv2D)       (None, 112, 112, 128)     147584    \n",
      "                                                                 \n",
      " block2_pool (MaxPooling2D)  (None, 56, 56, 128)       0         \n",
      "                                                                 \n",
      " block3_conv1 (Conv2D)       (None, 56, 56, 256)       295168    \n",
      "                                                                 \n",
      " block3_conv2 (Conv2D)       (None, 56, 56, 256)       590080    \n",
      "                                                                 \n",
      " block3_conv3 (Conv2D)       (None, 56, 56, 256)       590080    \n",
      "                                                                 \n",
      " block3_pool (MaxPooling2D)  (None, 28, 28, 256)       0         \n",
      "                                                                 \n",
      " block4_conv1 (Conv2D)       (None, 28, 28, 512)       1180160   \n",
      "                                                                 \n",
      " block4_conv2 (Conv2D)       (None, 28, 28, 512)       2359808   \n",
      "                                                                 \n",
      " block4_conv3 (Conv2D)       (None, 28, 28, 512)       2359808   \n",
      "                                                                 \n",
      " block4_pool (MaxPooling2D)  (None, 14, 14, 512)       0         \n",
      "                                                                 \n",
      " block5_conv1 (Conv2D)       (None, 14, 14, 512)       2359808   \n",
      "                                                                 \n",
      " block5_conv2 (Conv2D)       (None, 14, 14, 512)       2359808   \n",
      "                                                                 \n",
      " block5_conv3 (Conv2D)       (None, 14, 14, 512)       2359808   \n",
      "                                                                 \n",
      " block5_pool (MaxPooling2D)  (None, 7, 7, 512)         0         \n",
      "                                                                 \n",
      " flatten_12 (Flatten)        (None, 25088)             0         \n",
      "                                                                 \n",
      " dense_21 (Dense)            (None, 1024)              25691136  \n",
      "                                                                 \n",
      " dense_22 (Dense)            (None, 1024)              1049600   \n",
      "                                                                 \n",
      " dense_23 (Dense)            (None, 512)               524800    \n",
      "                                                                 \n",
      " dense_24 (Dense)            (None, 484)               248292    \n",
      "                                                                 \n",
      "=================================================================\n",
      "Total params: 42,228,516\n",
      "Trainable params: 27,513,828\n",
      "Non-trainable params: 14,714,688\n",
      "_________________________________________________________________\n"
     ]
    }
   ],
   "source": [
    "model = Model(inputs=vgg.input, outputs=prediction)\n",
    "\n",
    "model.summary()"
   ]
  },
  {
   "cell_type": "code",
   "execution_count": 109,
   "id": "287ae109",
   "metadata": {},
   "outputs": [],
   "source": [
    "model.compile(\n",
    "  loss='categorical_crossentropy',\n",
    "  optimizer='adam',\n",
    "  metrics=['accuracy']\n",
    ")"
   ]
  },
  {
   "cell_type": "code",
   "execution_count": 110,
   "id": "3ea4542c",
   "metadata": {},
   "outputs": [
    {
     "name": "stdout",
     "output_type": "stream",
     "text": [
      "Found 2801 images belonging to 484 classes.\n",
      "Found 1614 images belonging to 484 classes.\n"
     ]
    }
   ],
   "source": [
    "from keras.preprocessing.image import ImageDataGenerator\n",
    "\n",
    "train_datagen = ImageDataGenerator(rescale = 1./255,\n",
    "                                   shear_range = 0.2,\n",
    "                                   zoom_range = 0.2,\n",
    "                                   horizontal_flip = True)\n",
    "\n",
    "test_datagen = ImageDataGenerator(rescale = 1./255)\n",
    "\n",
    "training_set = train_datagen.flow_from_directory(train_directory,\n",
    "                                                 target_size = (224, 224),\n",
    "                                                 batch_size = 32,\n",
    "                                                 class_mode = 'categorical')\n",
    "\n",
    "test_set = test_datagen.flow_from_directory(test_directory,\n",
    "                                            target_size = (224, 224),\n",
    "                                            batch_size = 32,\n",
    "                                            class_mode = 'categorical')"
   ]
  },
  {
   "cell_type": "code",
   "execution_count": 111,
   "id": "411f9624",
   "metadata": {},
   "outputs": [
    {
     "name": "stdout",
     "output_type": "stream",
     "text": [
      "88\n",
      "51\n"
     ]
    }
   ],
   "source": [
    "print(len(training_set))\n",
    "print(len(test_set))"
   ]
  },
  {
   "cell_type": "code",
   "execution_count": 112,
   "id": "c81455b6",
   "metadata": {},
   "outputs": [
    {
     "name": "stdout",
     "output_type": "stream",
     "text": [
      "Epoch 1/79\n",
      "88/88 [==============================] - 340s 4s/step - loss: 6.2920 - accuracy: 0.0043 - val_loss: 6.0813 - val_accuracy: 0.0081\n",
      "Epoch 2/79\n",
      "88/88 [==============================] - 338s 4s/step - loss: 5.9553 - accuracy: 0.0114 - val_loss: 5.6700 - val_accuracy: 0.0173\n",
      "Epoch 3/79\n",
      "88/88 [==============================] - 337s 4s/step - loss: 5.3681 - accuracy: 0.0368 - val_loss: 5.0441 - val_accuracy: 0.0403\n",
      "Epoch 4/79\n",
      "88/88 [==============================] - 338s 4s/step - loss: 4.7274 - accuracy: 0.0543 - val_loss: 4.5259 - val_accuracy: 0.0843\n",
      "Epoch 5/79\n",
      "88/88 [==============================] - 338s 4s/step - loss: 4.0912 - accuracy: 0.1125 - val_loss: 4.0586 - val_accuracy: 0.1103\n",
      "Epoch 6/79\n",
      "88/88 [==============================] - 339s 4s/step - loss: 3.5860 - accuracy: 0.1635 - val_loss: 3.8652 - val_accuracy: 0.1462\n",
      "Epoch 7/79\n",
      "88/88 [==============================] - 339s 4s/step - loss: 3.2064 - accuracy: 0.2014 - val_loss: 3.7130 - val_accuracy: 0.1636\n",
      "Epoch 8/79\n",
      "88/88 [==============================] - 337s 4s/step - loss: 2.8021 - accuracy: 0.2692 - val_loss: 3.5715 - val_accuracy: 0.1976\n",
      "Epoch 9/79\n",
      "88/88 [==============================] - 337s 4s/step - loss: 2.4532 - accuracy: 0.3349 - val_loss: 3.4259 - val_accuracy: 0.2305\n",
      "Epoch 10/79\n",
      "88/88 [==============================] - 338s 4s/step - loss: 2.1445 - accuracy: 0.4020 - val_loss: 3.4263 - val_accuracy: 0.2515\n",
      "Epoch 11/79\n",
      "88/88 [==============================] - 338s 4s/step - loss: 1.9207 - accuracy: 0.4523 - val_loss: 3.5092 - val_accuracy: 0.2646\n",
      "Epoch 12/79\n",
      "88/88 [==============================] - 338s 4s/step - loss: 1.7553 - accuracy: 0.5005 - val_loss: 3.5468 - val_accuracy: 0.2509\n",
      "Epoch 13/79\n",
      "88/88 [==============================] - 338s 4s/step - loss: 1.4913 - accuracy: 0.5502 - val_loss: 3.4147 - val_accuracy: 0.3030\n",
      "Epoch 14/79\n",
      "88/88 [==============================] - 338s 4s/step - loss: 1.3556 - accuracy: 0.5984 - val_loss: 3.5038 - val_accuracy: 0.3011\n",
      "Epoch 15/79\n",
      "88/88 [==============================] - 338s 4s/step - loss: 1.2526 - accuracy: 0.6166 - val_loss: 3.7804 - val_accuracy: 0.3098\n",
      "Epoch 16/79\n",
      "88/88 [==============================] - 338s 4s/step - loss: 1.1131 - accuracy: 0.6573 - val_loss: 3.6561 - val_accuracy: 0.3178\n",
      "Epoch 17/79\n",
      "88/88 [==============================] - 338s 4s/step - loss: 1.0080 - accuracy: 0.6780 - val_loss: 3.9348 - val_accuracy: 0.3110\n",
      "Epoch 18/79\n",
      "88/88 [==============================] - 339s 4s/step - loss: 0.8919 - accuracy: 0.7133 - val_loss: 4.1073 - val_accuracy: 0.3178\n",
      "Epoch 19/79\n",
      "88/88 [==============================] - 338s 4s/step - loss: 0.8780 - accuracy: 0.7169 - val_loss: 3.9487 - val_accuracy: 0.3340\n",
      "Epoch 20/79\n",
      "88/88 [==============================] - 338s 4s/step - loss: 0.7483 - accuracy: 0.7619 - val_loss: 4.2162 - val_accuracy: 0.3321\n",
      "Epoch 21/79\n",
      "88/88 [==============================] - 338s 4s/step - loss: 0.7456 - accuracy: 0.7604 - val_loss: 4.0093 - val_accuracy: 0.3420\n",
      "Epoch 22/79\n",
      "88/88 [==============================] - 338s 4s/step - loss: 0.6945 - accuracy: 0.7737 - val_loss: 4.5183 - val_accuracy: 0.3222\n",
      "Epoch 23/79\n",
      "88/88 [==============================] - 338s 4s/step - loss: 0.7323 - accuracy: 0.7640 - val_loss: 4.1909 - val_accuracy: 0.3730\n",
      "Epoch 24/79\n",
      "88/88 [==============================] - 338s 4s/step - loss: 0.6238 - accuracy: 0.7947 - val_loss: 4.4903 - val_accuracy: 0.3625\n",
      "Epoch 25/79\n",
      "88/88 [==============================] - 338s 4s/step - loss: 0.4940 - accuracy: 0.8368 - val_loss: 4.5439 - val_accuracy: 0.3643\n",
      "Epoch 26/79\n",
      "88/88 [==============================] - 338s 4s/step - loss: 0.4823 - accuracy: 0.8386 - val_loss: 4.4729 - val_accuracy: 0.3693\n",
      "Epoch 27/79\n",
      "88/88 [==============================] - 338s 4s/step - loss: 0.4369 - accuracy: 0.8633 - val_loss: 4.7742 - val_accuracy: 0.3587\n",
      "Epoch 28/79\n",
      "88/88 [==============================] - 338s 4s/step - loss: 0.4733 - accuracy: 0.8501 - val_loss: 4.8547 - val_accuracy: 0.3432\n",
      "Epoch 29/79\n",
      "88/88 [==============================] - 339s 4s/step - loss: 0.4719 - accuracy: 0.8490 - val_loss: 4.9155 - val_accuracy: 0.3439\n",
      "Epoch 30/79\n",
      "88/88 [==============================] - 381s 4s/step - loss: 0.3866 - accuracy: 0.8779 - val_loss: 5.0450 - val_accuracy: 0.3587\n",
      "Epoch 31/79\n",
      "88/88 [==============================] - 394s 4s/step - loss: 0.3342 - accuracy: 0.8908 - val_loss: 4.9913 - val_accuracy: 0.3848\n",
      "Epoch 32/79\n",
      "88/88 [==============================] - 387s 4s/step - loss: 0.4711 - accuracy: 0.8522 - val_loss: 4.9563 - val_accuracy: 0.3699\n",
      "Epoch 33/79\n",
      "88/88 [==============================] - 387s 4s/step - loss: 0.3848 - accuracy: 0.8761 - val_loss: 4.9217 - val_accuracy: 0.3686\n",
      "Epoch 34/79\n",
      "88/88 [==============================] - 388s 4s/step - loss: 0.3927 - accuracy: 0.8775 - val_loss: 4.9502 - val_accuracy: 0.3575\n",
      "Epoch 35/79\n",
      "88/88 [==============================] - 388s 4s/step - loss: 0.2951 - accuracy: 0.9018 - val_loss: 5.1460 - val_accuracy: 0.3897\n",
      "Epoch 36/79\n",
      "88/88 [==============================] - 388s 4s/step - loss: 0.3038 - accuracy: 0.8993 - val_loss: 5.2652 - val_accuracy: 0.3643\n",
      "Epoch 37/79\n",
      "88/88 [==============================] - 387s 4s/step - loss: 0.3038 - accuracy: 0.9015 - val_loss: 5.4140 - val_accuracy: 0.3817\n",
      "Epoch 38/79\n",
      "88/88 [==============================] - 388s 4s/step - loss: 0.3591 - accuracy: 0.8883 - val_loss: 5.4482 - val_accuracy: 0.3773\n",
      "Epoch 39/79\n",
      "88/88 [==============================] - 390s 4s/step - loss: 0.3322 - accuracy: 0.8986 - val_loss: 5.5970 - val_accuracy: 0.3767\n",
      "Epoch 40/79\n",
      "88/88 [==============================] - 389s 4s/step - loss: 0.2950 - accuracy: 0.9061 - val_loss: 5.4168 - val_accuracy: 0.3804\n",
      "Epoch 41/79\n",
      "88/88 [==============================] - 390s 4s/step - loss: 0.2486 - accuracy: 0.9161 - val_loss: 5.6989 - val_accuracy: 0.3810\n",
      "Epoch 42/79\n",
      "88/88 [==============================] - 387s 4s/step - loss: 0.4068 - accuracy: 0.8679 - val_loss: 5.5503 - val_accuracy: 0.3643\n",
      "Epoch 43/79\n",
      "88/88 [==============================] - 387s 4s/step - loss: 0.3536 - accuracy: 0.8861 - val_loss: 5.6728 - val_accuracy: 0.3767\n",
      "Epoch 44/79\n",
      "88/88 [==============================] - 388s 4s/step - loss: 0.2293 - accuracy: 0.9311 - val_loss: 5.6922 - val_accuracy: 0.3860\n",
      "Epoch 45/79\n",
      "88/88 [==============================] - 388s 4s/step - loss: 0.2502 - accuracy: 0.9175 - val_loss: 5.8888 - val_accuracy: 0.3699\n",
      "Epoch 46/79\n",
      "88/88 [==============================] - 388s 4s/step - loss: 0.2528 - accuracy: 0.9232 - val_loss: 5.9233 - val_accuracy: 0.3804\n",
      "Epoch 47/79\n",
      "88/88 [==============================] - 389s 4s/step - loss: 0.2907 - accuracy: 0.9061 - val_loss: 6.3279 - val_accuracy: 0.3705\n",
      "Epoch 48/79\n",
      "88/88 [==============================] - 387s 4s/step - loss: 0.2844 - accuracy: 0.9125 - val_loss: 6.1107 - val_accuracy: 0.3730\n",
      "Epoch 49/79\n",
      "88/88 [==============================] - 387s 4s/step - loss: 0.2416 - accuracy: 0.9240 - val_loss: 6.1820 - val_accuracy: 0.3482\n",
      "Epoch 50/79\n",
      "88/88 [==============================] - 388s 4s/step - loss: 0.3246 - accuracy: 0.9011 - val_loss: 5.7713 - val_accuracy: 0.3742\n",
      "Epoch 51/79\n",
      "88/88 [==============================] - 388s 4s/step - loss: 0.2191 - accuracy: 0.9318 - val_loss: 6.0630 - val_accuracy: 0.3798\n",
      "Epoch 52/79\n",
      "88/88 [==============================] - 388s 4s/step - loss: 0.2160 - accuracy: 0.9300 - val_loss: 5.6745 - val_accuracy: 0.4046\n",
      "Epoch 53/79\n",
      "88/88 [==============================] - 389s 4s/step - loss: 0.2898 - accuracy: 0.9040 - val_loss: 6.2665 - val_accuracy: 0.3581\n",
      "Epoch 54/79\n",
      "88/88 [==============================] - 388s 4s/step - loss: 0.3366 - accuracy: 0.8904 - val_loss: 5.8574 - val_accuracy: 0.3587\n",
      "Epoch 55/79\n",
      "88/88 [==============================] - 388s 4s/step - loss: 0.1726 - accuracy: 0.9447 - val_loss: 6.3008 - val_accuracy: 0.3742\n",
      "Epoch 56/79\n",
      "88/88 [==============================] - 389s 4s/step - loss: 0.1545 - accuracy: 0.9482 - val_loss: 6.4225 - val_accuracy: 0.3575\n",
      "Epoch 57/79\n",
      "88/88 [==============================] - 388s 4s/step - loss: 0.2682 - accuracy: 0.9179 - val_loss: 6.4772 - val_accuracy: 0.3643\n",
      "Epoch 58/79\n",
      "88/88 [==============================] - 389s 4s/step - loss: 0.2936 - accuracy: 0.9125 - val_loss: 6.5085 - val_accuracy: 0.3563\n",
      "Epoch 59/79\n",
      "88/88 [==============================] - 389s 4s/step - loss: 0.2478 - accuracy: 0.9197 - val_loss: 6.7187 - val_accuracy: 0.3550\n",
      "Epoch 60/79\n",
      "88/88 [==============================] - 389s 4s/step - loss: 0.2449 - accuracy: 0.9218 - val_loss: 6.7554 - val_accuracy: 0.3482\n",
      "Epoch 61/79\n",
      "88/88 [==============================] - 394s 4s/step - loss: 0.2333 - accuracy: 0.9272 - val_loss: 6.5220 - val_accuracy: 0.3755\n",
      "Epoch 62/79\n",
      "88/88 [==============================] - 389s 4s/step - loss: 0.2635 - accuracy: 0.9186 - val_loss: 6.3806 - val_accuracy: 0.3798\n",
      "Epoch 63/79\n",
      "88/88 [==============================] - 388s 4s/step - loss: 0.2127 - accuracy: 0.9300 - val_loss: 6.3318 - val_accuracy: 0.3885\n",
      "Epoch 64/79\n",
      "88/88 [==============================] - 390s 4s/step - loss: 0.1877 - accuracy: 0.9414 - val_loss: 6.4810 - val_accuracy: 0.4009\n",
      "Epoch 65/79\n",
      "88/88 [==============================] - 388s 4s/step - loss: 0.1991 - accuracy: 0.9357 - val_loss: 6.8018 - val_accuracy: 0.3804\n",
      "Epoch 66/79\n",
      "88/88 [==============================] - 388s 4s/step - loss: 0.2624 - accuracy: 0.9211 - val_loss: 6.6134 - val_accuracy: 0.3823\n",
      "Epoch 67/79\n",
      "88/88 [==============================] - 389s 4s/step - loss: 0.2314 - accuracy: 0.9286 - val_loss: 6.8225 - val_accuracy: 0.3674\n",
      "Epoch 68/79\n",
      "88/88 [==============================] - 387s 4s/step - loss: 0.1847 - accuracy: 0.9407 - val_loss: 6.4609 - val_accuracy: 0.3903\n",
      "Epoch 69/79\n",
      "88/88 [==============================] - 388s 4s/step - loss: 0.2362 - accuracy: 0.9293 - val_loss: 6.5151 - val_accuracy: 0.3736\n",
      "Epoch 70/79\n",
      "88/88 [==============================] - 387s 4s/step - loss: 0.2384 - accuracy: 0.9275 - val_loss: 6.8767 - val_accuracy: 0.3724\n",
      "Epoch 71/79\n",
      "88/88 [==============================] - 388s 4s/step - loss: 0.1936 - accuracy: 0.9365 - val_loss: 6.5981 - val_accuracy: 0.3724\n",
      "Epoch 72/79\n",
      "88/88 [==============================] - 387s 4s/step - loss: 0.1790 - accuracy: 0.9397 - val_loss: 6.7433 - val_accuracy: 0.3730\n",
      "Epoch 73/79\n",
      "88/88 [==============================] - 387s 4s/step - loss: 0.2320 - accuracy: 0.9318 - val_loss: 6.9111 - val_accuracy: 0.3792\n",
      "Epoch 74/79\n",
      "88/88 [==============================] - 387s 4s/step - loss: 0.2538 - accuracy: 0.9236 - val_loss: 7.0436 - val_accuracy: 0.3556\n",
      "Epoch 75/79\n",
      "88/88 [==============================] - 387s 4s/step - loss: 0.2559 - accuracy: 0.9282 - val_loss: 6.8740 - val_accuracy: 0.3600\n",
      "Epoch 76/79\n",
      "88/88 [==============================] - 385s 4s/step - loss: 0.2248 - accuracy: 0.9315 - val_loss: 7.0283 - val_accuracy: 0.3810\n",
      "Epoch 77/79\n",
      "88/88 [==============================] - 384s 4s/step - loss: 0.1730 - accuracy: 0.9447 - val_loss: 7.0090 - val_accuracy: 0.3848\n",
      "Epoch 78/79\n",
      "88/88 [==============================] - 390s 4s/step - loss: 0.1722 - accuracy: 0.9479 - val_loss: 6.6501 - val_accuracy: 0.3990\n",
      "Epoch 79/79\n",
      "88/88 [==============================] - 389s 4s/step - loss: 0.1969 - accuracy: 0.9418 - val_loss: 6.9515 - val_accuracy: 0.3897\n"
     ]
    }
   ],
   "source": [
    "r = model.fit(\n",
    "  training_set,\n",
    "  validation_data=test_set,\n",
    "  epochs=79,\n",
    "  steps_per_epoch=len(training_set),\n",
    "  validation_steps=len(test_set)\n",
    ")"
   ]
  },
  {
   "cell_type": "code",
   "execution_count": 113,
   "id": "46886957",
   "metadata": {
    "tags": []
   },
   "outputs": [
    {
     "data": {
      "image/png": "[encoded data removed]",
      "text/plain": [
       "<Figure size 640x480 with 1 Axes>"
      ]
     },
     "metadata": {},
     "output_type": "display_data"
    }
   ],
   "source": [
    "plt.plot(r.history['loss'], label='train loss')\n",
    "plt.plot(r.history['val_loss'], label='val loss')\n",
    "plt.legend()\n",
    "plt.show()"
   ]
  },
  {
   "cell_type": "code",
   "execution_count": 114,
   "id": "b737517b-0b02-47c9-8238-5a1b08b2557d",
   "metadata": {
    "scrolled": true
   },
   "outputs": [
    {
     "data": {
      "image/png": "[encoded data removed]",
      "text/plain": [
       "<Figure size 640x480 with 1 Axes>"
      ]
     },
     "metadata": {},
     "output_type": "display_data"
    }
   ],
   "source": [
    "plt.plot(r.history['accuracy'], label='train acc')\n",
    "plt.plot(r.history['val_accuracy'], label='val acc')\n",
    "plt.legend()\n",
    "plt.show()"
   ]
  },
  {
   "cell_type": "code",
   "execution_count": 115,
   "id": "0fc81f8c-ade5-47a9-a4cc-36551759d7e1",
   "metadata": {},
   "outputs": [],
   "source": [
    "model.save('FS.h5')"
   ]
  },
  {
   "cell_type": "code",
   "execution_count": 116,
   "id": "fc74289f-a3bc-41b5-b469-430b4985e2f8",
   "metadata": {},
   "outputs": [],
   "source": [
    "from keras.models import load_model\n",
    "from tensorflow.keras.utils import load_img,img_to_array\n",
    "\n",
    "model1 = load_model('./FS.h5',compile=False)  "
   ]
  },
  {
   "cell_type": "code",
   "execution_count": 131,
   "id": "ffc1116c-c7be-4975-a823-d3f7d932e4c0",
   "metadata": {},
   "outputs": [
    {
     "name": "stdout",
     "output_type": "stream",
     "text": [
      "{'A73EGS': 0, 'Acanthaluteres Browni': 1, 'Acanthaluteres Spilomentarus': 2, 'Acanthaluteres Vittiger': 3, 'Acanthistius Cinctus': 4, 'Acanthopagrus Australis': 5, 'Acanthopagrus Breda': 6, 'Acanthopagrus Latus': 7, 'Achoerodus Ouldii': 8, 'Achoerodus Viridis': 9, 'Acreichthys Tomentosus': 10, 'Aesopia Cornuta': 11, 'Aethaloperca Rogaa': 12, 'Alectis Ciliaris': 13, 'Alectis Indica': 14, 'Alepes Kleinii': 15, 'Aluterus Monoceros': 16, 'Aluterus Scriptus': 17, 'Amanses Scopas': 18, 'Anampses Caeruleopunctatu': 19, 'Anampses Elegans': 20, 'Anampses Femininus': 21, 'Anampses Geographicus': 22, 'Anampses Lennardi': 23, 'Anampses Melanurus': 24, 'Anampses Meleagrrides': 25, 'Anampses Neoguinaicus': 26, 'Anampses Twistii': 27, 'Anodontostoma Chacunda': 28, 'Anyperodon Leucogrammicus': 29, 'Aphareus Furca': 30, 'Aphareus Rutilans': 31, 'Aprion Virescens': 32, 'Argyrops Spinifer': 33, 'Aseraggodes Melanstictus': 34, 'Atractoscion Aequidens': 35, 'Atule Mate': 36, 'Auxis Rochei': 37, 'Auxix Thazard': 38, 'Bathylagichthys Greyae': 39, 'Beryx Decadactylus': 40, 'Bodianus Anthioides': 41, 'Bodianus Axillaris': 42, 'Bodianus Bilunulatus': 43, 'Bodianus Bimaculatus': 44, 'Bodianus Diana': 45, 'Bodianus Loxozonus': 46, 'Bodianus Mesothorax': 47, 'Bodianus Perditio': 48, 'Bodianus Unimaculatus': 49, 'Bodianus Vulpinus': 50, 'Bothus Mancus': 51, 'Bothus Myriaster': 52, 'Bothus Panthrinus': 53, 'Brachaluteres Iacksonianus': 54, 'Brachirus Orientalis': 55, 'CUNWCB': 56, 'Caesioperca Pidopterus': 57, 'Cantherhines Dumerilii': 58, 'Cantherhines Fronticinctus': 59, 'Cantherhines Perdalis': 60, 'Cantheschenia Grandisquami': 61, 'Caprodon Longimanus': 62, 'Caprodon Schlegelii': 63, 'Carangoides Caeruleoppinat': 64, 'Carangoides Chrysophtys': 65, 'Carangoides Equula': 66, 'Carangoides Ferdau': 67, 'Carangoides Fulvoguttatus': 68, 'Carangoides Hedlandensis': 69, 'Carangoides Malabaricus': 70, 'Carangoides Orthogrammus': 71, 'Carangoides Plagiotaenia': 72, 'Caranx Ignobilis': 73, 'Caranx Lugubris': 74, 'Caranx Melampygus': 75, 'Caranx Sexfasciatus': 76, 'Carcharhinus Albimarginatus': 77, 'Carcharhinus Amblyrhynchos': 78, 'Carcharhinus Falciformis': 79, 'Carcharhinus Galapagensis': 80, 'Carcharhinus Limbatus': 81, 'Carcharhinus Melanopterus': 82, 'Carcharhinus Obscurus': 83, 'Carcharhinus Plumbeus': 84, 'Carcharhinus Sorrah': 85, 'Centroberyx Affinis': 86, 'Centrogenys Vaigiensis': 87, 'Centroscymnus Coelolepis': 88, 'Cephalopholis Argus': 89, 'Cephalopholis Boenak': 90, 'Cephalopholis Cyanostigma': 91, 'Cephalopholis Formosa': 92, 'Cephalopholis Igarashiemsis': 93, 'Cephalopholis Leopardus': 94, 'Cephalopholis Microprion': 95, 'Cephalopholis Miniata': 96, 'Cephalopholis Sexmaculata': 97, 'Cephalopholis Sonnerati': 98, 'Cephalopholis Spiloparaea': 99, 'Chascanopsetta Lugubris': 100, 'Cheilinus Chlorourus': 101, 'Cheilinus Fasciatus': 102, 'Cheilinus Oxycephalus': 103, 'Cheilinus Trilobatus': 104, 'Cheilinus Undulatus': 105, 'Cheilio Inermis': 106, 'Cheilodactylus Ephippium': 107, 'Cheilodactylus Fuscus': 108, 'Cheilodactylus Spectablis': 109, 'Cheilodactylus Vestitus': 110, 'Chelidonichthys Kumu': 111, 'Chirocentrus Dorab': 112, 'Chirocentrus Nudus': 113, 'Choerodon Anchorago': 114, 'Choerodon Cauteroma': 115, 'Choerodon Cyanodus': 116, 'Choerodon Fasciatus': 117, 'Choerodon Graphicus': 118, 'Choerodon Jordani': 119, 'Choerodon Rubescens': 120, 'Choerodon Schoenleinii': 121, 'Choerodon Venustus': 122, 'Choerodon Zamboangae': 123, 'Choerodon vitta': 124, 'Chromileptes Altivelis': 125, 'Cirrgilabrus Temminckii': 126, 'Cirrhilabrus Bathyphilus': 127, 'Cirrhilabrus Condei': 128, 'Cirrhilabrus Cyanopleura': 129, 'Cirrhilabrus Exquisitus': 130, 'Cirrhilabrus Laboutei': 131, 'Cirrhilabrus Punctatus': 132, 'Cirrhilabrus Scottorum': 133, 'Coris Aygula': 134, 'Coris Batuensis': 135, 'Coris Bulbifron': 136, 'Coris Caudimacula': 137, 'Coris Dorsomacula': 138, 'Coris Gaimard': 139, 'Coris Picta': 140, 'Coris Pictoides': 141, 'Coris Sandeyer': 142, 'Crenimugli Crenilabis': 143, 'Cymbacephalus Nematophthalmus': 144, 'Cymolutes Praetextatus': 145, 'Cymolutes Quatus': 146, 'Cynoglossus Puncticeps': 147, 'Cyttopsis Rose': 148, 'Dactylophora Nigricans': 149, 'Decapterus Macrosoma': 150, 'Decapterus Ruselli': 151, 'Diproctacanthus Xanthurus': 152, 'Dotalabrus Aurantiacus': 153, 'Elagatis Bipinnulata': 154, 'Epibulus Insidiator': 155, 'Epinephelus Areolatus': 156, 'Epinephelus Bleekeri': 157, 'Epinephelus Chlorostigma': 158, 'Epinephelus Coeruleopunctatus': 159, 'Epinephelus Coioides': 160, 'Epinephelus Corallicola': 161, 'Epinephelus Cyanopodus': 162, 'Epinephelus Epistictus': 163, 'Epinephelus Fasciatus': 164, 'Epinephelus Fuscoguttatus': 165, 'Epinephelus Hexagonatus': 166, 'Epinephelus Howlandi': 167, 'Epinephelus Lanceolatus': 168, 'Epinephelus Latifasciatus': 169, 'Epinephelus Macrospilos': 170, 'Epinephelus Maculatus': 171, 'Epinephelus Melanostigma': 172, 'Epinephelus Merra': 173, 'Epinephelus Morrhua': 174, 'Epinephelus Multinotatus': 175, 'Epinephelus Ongus': 176, 'Epinephelus Polyphekadion': 177, 'Epinephelus Quoyanus': 178, 'Epinephelus Radiatus': 179, 'Epinephelus Retouti': 180, 'Epinephelus Rivulatus': 181, 'Epinephelus Sexfasciatus': 182, 'Epinephelus Spilotoceps': 183, 'Epinephelus Tauvina': 184, 'Epinephelus Undulatostriatus': 185, 'Etelis Carbunculus': 186, 'Etelis Coruscans': 187, 'Eubalichthys Cyanoura': 188, 'Eubalichthys Moscaicus': 189, 'Eupetrichthys Angustipes': 190, 'Euthynnus affinis': 191, 'Evistias Acutirostris': 192, 'Gempylus Serpens': 193, 'Gnathanodon Speciosus': 194, 'Gnathodentex Aureolineatus': 195, 'Gracila Albomarginata': 196, 'Gymnocpranius Microdon': 197, 'Gymnocranius Audleyi': 198, 'Gymnocranius Euanus': 199, 'Gymnocranius Microdon': 200, 'Gymnoctanius Grandoculis': 201, 'Gymnosarda Unicolor': 202, 'Halichoeres Argus': 203, 'Halichoeres Biocellatus': 204, 'Halichoeres Chloropterus': 205, 'Halichoeres Chrysus': 206, 'Halichoeres Hartzfeldii': 207, 'Halichoeres Hortulanus': 208, 'Halichoeres Leucurus': 209, 'Halichoeres Margaritaceus': 210, 'Halichoeres Marginatus': 211, 'Halichoeres Melanochir': 212, 'Halichoeres Melanurus': 213, 'Halichoeres Melasmapomus': 214, 'Halichoeres Miniatus': 215, 'Halichoeres Nebulosus': 216, 'Halichoeres Nigreschens': 217, 'Halichoeres Scapularis': 218, 'Halichoeres Trimaculatus': 219, 'Harriotta releighana': 220, 'Hemigymnus Fasciatus': 221, 'Hemigymnus Melapterus': 222, 'Hemiraphus Far': 223, 'Herklotsichthys Quadrimaculatus': 224, 'Hologymnosus Annulatus': 225, 'Hologymnosus Doliatus': 226, 'Hyporhamphus Affinis': 227, 'Hyporhamphus Dussumieri': 228, 'Inegocia Japonica': 229, 'Istiophorus Platypterus': 230, 'Johnius Borneesis': 231, 'Katsuwonus Pelamis': 232, 'Labrichthys Unilineatus': 233, 'Labroides Bicolor': 234, 'Labroides Dimidiatus': 235, 'Labroides Pectoralis': 236, 'Labropsis Australis': 237, 'Labropsis Manabei': 238, 'Labropsis Xanthonota': 239, 'Latridopsis Forsteri': 240, 'Lepidocybium Flavobrunneum': 241, 'Leptojulis Cyanopleura': 242, 'Lethrinus Amboinesnsis': 243, 'Lethrinus Atkinsoni': 244, 'Lethrinus Erythracanthus': 245, 'Lethrinus Genivittatus': 246, 'Lethrinus Harak': 247, 'Lethrinus Microdon': 248, 'Lethrinus Miniatus': 249, 'Lethrinus Nebulosus': 250, 'Lethrinus Obsoletus': 251, 'Lethrinus Olivaceus': 252, 'Lethrinus Ornatus': 253, 'Lethrinus Rubrioperculatus': 254, 'Lethrinus Semicinctus': 255, 'Lethrinus Variegatus': 256, 'Lethrinus Xanthochilus': 257, 'Lethrinus lentjan': 258, 'Liopropoma Mitratum': 259, 'Liopropoma Susumi': 260, 'Liza Subviriridis': 261, 'Liza Valgiensis': 262, 'Lniistius Aneitensis': 263, 'Lniistius Pavo': 264, 'Lutjanus Adetii': 265, 'Lutjanus Argentimaculatus': 266, 'Lutjanus Biguttatus': 267, 'Lutjanus Bohar': 268, 'Lutjanus Carponotatus': 269, 'Lutjanus Decussatus': 270, 'Lutjanus Ehrenbergii': 271, 'Lutjanus Erythropterus': 272, 'Lutjanus Fulviflamma': 273, 'Lutjanus Fulvus': 274, 'Lutjanus Gibbus': 275, 'Lutjanus Johnii': 276, 'Lutjanus Kasmira': 277, 'Lutjanus Lemniscatus': 278, 'Lutjanus Lutjanus': 279, 'Lutjanus Malabaricus': 280, 'Lutjanus Monostigma': 281, 'Lutjanus Quinquelineatus': 282, 'Lutjanus Rivulatus': 283, 'Lutjanus Russellii': 284, 'Lutjanus Sebae': 285, 'Lutjanus Semicinctus': 286, 'Lutjanus Semicinctus Quoy': 287, 'Lutjanus Timoriensis': 288, 'Lutjanus Vitta': 289, 'Macolor Macularis': 290, 'Macolor Niger': 291, 'Macropharyngodon Choati': 292, 'Macropharyngodon Kuiiteri': 293, 'Macropharyngodon Meleagris': 294, 'Macropharyngodon Negrosensis': 295, 'Macropharyngodon Ornatus': 296, 'Megalaspis Cordyla': 297, 'Meuschenia Australis': 298, 'Meuschenia Freycineti': 299, 'Meuschenia Galii': 300, 'Meuschenia Hippocrepis': 301, 'Meuschenia Scaber': 302, 'Meuschenia Trachylepis': 303, 'Monacanthus Chinensis': 304, 'Monotaxis Grandoculis': 305, 'Mugim Cephalus': 306, 'Naucrates Ductor': 307, 'Negaprion Acutidens': 308, 'Nemadactylus Douglasii': 309, 'Nemipterus Furcosus': 310, 'Nemipterus Hexodon': 311, 'Nemipterus Peronii': 312, 'Netuma Thalassine': 313, 'Nibea Soldado': 314, 'Notolabrus Fucicola': 315, 'Notolabrus Gymnogenis': 316, 'Notolabrus Tetricus': 317, 'Notorynchus Cepedianus': 318, 'Novaculichthys Taeniourus': 319, 'Novaculoides Macrolepidotus': 320, 'Oedalechilus Labiosus': 321, 'Ophthalmolepis Lineolatus': 322, 'Otolithes Ruber': 323, 'Oxycheilinus Bimaculatus': 324, 'Oxycheilinus Celebicus': 325, 'Oxycheilinus Digrammus': 326, 'Oxycheilinus Unifasciatus': 327, 'Oxymonacanthus Longirostris': 328, 'P!ROZC Z': 329, 'PQV7DP S': 330, 'Pagrus Auratus': 331, 'Paracaesio Kusakarii': 332, 'Paracheilinus Filamentosus': 333, 'Paraluteres Prionurus': 334, 'Paramonacanthus Choirocephalus': 335, 'Paraplagusia Bilineata': 336, 'Parastronateus Niger': 337, 'Pardachirus Hedleyi': 338, 'Pardachirus Pavoninus': 339, 'Pentapodus Aureofasciatus': 340, 'Pentapodus Paradiseus': 341, 'Pentapodus Vitta Quoy': 342, 'Pervagor Alternans': 343, 'Pervagor Aspricaudus': 344, 'Pervagor Janthinosoma': 345, 'Pervagor Melanoceohalus': 346, 'Pervagor Nigrolineatus': 347, 'Pinjalo Lewisl': 348, 'Platycephalus Indicus': 349, 'Plectranthias Longimanus': 350, 'Plectranthias Nanus': 351, 'Plectranthias Winniensis': 352, 'Plectropomus Areolatus': 353, 'Plectropomus Laevis': 354, 'Plectropomus Leopardus': 355, 'Plectropomus Maculatus': 356, 'Plectrpomus Oligacanthus': 357, 'Plotosus Lineatus': 358, 'Pristipomoides Argyrogrammicus': 359, 'Pristipomoides Auricilla': 360, 'Pristipomoides Filamentosus': 361, 'Pristipomoides Flavipinnis': 362, 'Pristipomoides Sieboldii': 363, 'Pristipomoides Zonatus': 364, 'Promethichthys Prometheus': 365, 'Protonibea Diacanthus': 366, 'Psettodes Erumei': 367, 'Pseudalutarius Nascicormis': 368, 'Pseudanthias Bicolor': 369, 'Pseudanthias Cooperi': 370, 'Pseudanthias Dispar': 371, 'Pseudanthias Fasciatus': 372, 'Pseudanthias Huchtii': 373, 'Pseudanthias Hypselosoma': 374, 'Pseudanthias Lori': 375, 'Pseudanthias Luzonensis': 376, 'Pseudanthias Pictilis': 377, 'Pseudanthias Pleurotaenia': 378, 'Pseudanthias Rubrizonatus': 379, 'Pseudanthias Sheni': 380, 'Pseudanthias Smithvanizi': 381, 'Pseudanthias Squamipinnis': 382, 'Pseudanthias Tuka': 383, 'Pseudanthias Ventralis': 384, 'Pseudocaranx Dentex': 385, 'Pseudocarcharias kamoharai': 386, 'Pseudocheilinus Evanidus': 387, 'Pseudocheilinus Hexataenia': 388, 'Pseudocheilinus Ocellatus': 389, 'Pseudocheilinus Octotaenia': 390, 'Pseudodax Moluccanus': 391, 'Pseudojuloides Cerasinus': 392, 'Pseudolabrus Beserialis': 393, 'Pseudolabrus Guentheri': 394, 'Pseudolabrus Luculentus': 395, 'Pseudorhombus Arsius': 396, 'Pseudorhombus Elevatus': 397, 'Pteragogus Cryptus': 398, 'Pteragogus Enneacanthus': 399, 'Pteragogus Flagellifer': 400, 'Rastrelliger Kanagurta': 401, 'Retropinna Semoni': 402, 'Rhabdosargus Sarba': 403, 'Rhincodon Typus': 404, 'Rhizoprionodon Acutus': 405, 'Ruvettus Pretiosus': 406, 'Samaris Cristatus': 407, 'Samariscus Triocellatus': 408, 'Sarda Orientalis': 409, 'Sardinella Albella': 410, 'Sardinella Gibbosa': 411, 'Sardinops Sagax': 412, 'Scaevius Milii': 413, 'Scolopsis Affinis': 414, 'Scolopsis Bilineata': 415, 'Scolopsis Lineata': 416, 'Scolopsis Margaritifer': 417, 'Scolopsis Monogramma': 418, 'Scolopsis Trilineata': 419, 'Scolopsis Vosmeri': 420, 'Scolopsis Xenochrous': 421, 'Scomberoides Commersonnianus': 422, 'Scomberoides Lysan': 423, 'Scomberomorus Commerson': 424, 'Selar Crumenophthalmus': 425, 'Selaroides Leptolepis': 426, 'Seriola Dumerili': 427, 'Seriola Hippos': 428, 'Seriola Revoliana': 429, 'Seriolina nigrofasciata': 430, 'Serranocirrhitus Latus': 431, 'Sillago Ciliata': 432, 'Sillago Sihama': 433, 'Soleichthys Heterorhinos': 434, 'Sphyraena Barracuda': 435, 'Sphyraena Forsteri': 436, 'Sphyraena Jello': 437, 'Sphyraena Obtusata': 438, 'Stegostoma Fasciatum': 439, 'Stethojulis Bandanensis': 440, 'Stethojulis Interrupta': 441, 'Stethojulis Strigiventer': 442, 'Stethojulis Trillineata': 443, 'Stolephorus Waitei': 444, 'Sueyichthys Arquatus': 445, 'Suezichthys Cyanolaemus': 446, 'Suezichthys Gracilis': 447, 'Symphoricchthys Spilurus': 448, 'Symphorus Nematophorus': 449, 'Thalassoma Amblycephalum': 450, 'Thalassoma Hardwicke': 451, 'Thalassoma Jansenii': 452, 'Thalassoma Lunare': 453, 'Thalassoma Lutescens': 454, 'Thalassoma Nigrofasciatum': 455, 'Thalassoma Purpureum': 456, 'Thalassoma Quinquevittatum': 457, 'Thalassoma Trilobatum': 458, 'Thryssa Baelama': 459, 'Thryssa Hamiltonii': 460, 'Thunnus Alalunga': 461, 'Thunnus Albacares': 462, 'Thysanophrys Celebica': 463, 'Thysanophrys Chiltonae': 464, 'Trachichthys Australis': 465, 'Trachinotus Baillonii': 466, 'Trachinotus Blochii': 467, 'Trachinotus Botla': 468, 'Trachypoma Macracanthus': 469, 'Triaenodon Obesus': 470, 'Uraspis Secunda': 471, 'Valamugil Cunnesius': 472, 'Valamugil Engeli': 473, 'Valamugil Seheli': 474, 'Variola Albimarginata': 475, 'Variola Louti': 476, 'Wattsia Mossambica': 477, 'Wetmorella Albofasciata': 478, 'Wetmorella Nigropinnata': 479, 'Xiphocheilus Typus': 480, 'Zenarchopterus Dispar': 481, 'Zeus Faber': 482, 'pseudorhombus Argus': 483}\n"
     ]
    }
   ],
   "source": [
    "lab = training_set.class_indices\n",
    "print(training_set.class_indices)\n",
    "lab={k:v for v,k in lab.items()}"
   ]
  },
  {
   "cell_type": "code",
   "execution_count": 128,
   "id": "ccf9c66c-3ae7-46b8-a375-7cfe030a1553",
   "metadata": {},
   "outputs": [],
   "source": [
    "def output(location):\n",
    "    img=load_img(location,target_size=(224,224,3))\n",
    "    img=img_to_array(img)\n",
    "    img=img/255\n",
    "    img=np.expand_dims(img,[0])\n",
    "    answer=model1.predict(img)\n",
    "    y_class = answer.argmax(axis=-1)\n",
    "    y = \" \".join(str(x) for x in y_class)\n",
    "    y = int(y)\n",
    "    res = lab[y]\n",
    "    return res"
   ]
  }
 ],
 "metadata": {
  "kernelspec": {
   "display_name": "Python 3 (ipykernel)",
   "language": "python",
   "name": "python3"
  },
  "language_info": {
   "codemirror_mode": {
    "name": "ipython",
    "version": 3
   },
   "file_extension": ".py",
   "mimetype": "text/x-python",
   "name": "python",
   "nbconvert_exporter": "python",
   "pygments_lexer": "ipython3",
   "version": "3.10.9"
  }
 },
 "nbformat": 4,
 "nbformat_minor": 5
}
